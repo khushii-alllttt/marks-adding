{
  "nbformat": 4,
  "nbformat_minor": 0,
  "metadata": {
    "colab": {
      "provenance": [],
      "authorship_tag": "ABX9TyORq33liMAIxNpFJ9ImAGVB",
      "include_colab_link": true
    },
    "kernelspec": {
      "name": "python3",
      "display_name": "Python 3"
    },
    "language_info": {
      "name": "python"
    }
  },
  "cells": [
    {
      "cell_type": "markdown",
      "metadata": {
        "id": "view-in-github",
        "colab_type": "text"
      },
      "source": [
        "<a href=\"https://colab.research.google.com/github/khushii-alllttt/marks-adding/blob/main/marks_adding.ipynb\" target=\"_parent\"><img src=\"https://colab.research.google.com/assets/colab-badge.svg\" alt=\"Open In Colab\"/></a>"
      ]
    },
    {
      "cell_type": "code",
      "execution_count": 1,
      "metadata": {
        "colab": {
          "base_uri": "https://localhost:8080/"
        },
        "id": "BDmKm7TqiWJ2",
        "outputId": "3ef4cbf5-a955-43d2-e5a4-57c3522825fc"
      },
      "outputs": [
        {
          "output_type": "stream",
          "name": "stdout",
          "text": [
            "----- INPUT DATA -----\n",
            "Roll Num\tMarks\n",
            "102003542\t1\n",
            "102003640\t1\n",
            "102003725\t1\n",
            "102003307\t1\n",
            "102003640\t1\n",
            "102003643\t1\n",
            "102017134\t1\n",
            "102003207\t1\n",
            "102003315\t1\n",
            "102003362\t1\n",
            "102003135\t1\n",
            "102003640\t1\n",
            "102003675\t1\n",
            "102003725\t1\n",
            "102003725\t1\n",
            "102003725\t1\n",
            "102003458\t1\n",
            "102003643\t1\n",
            "102003643\t1\n",
            "102003643\t1\n",
            "102003458\t1\n",
            "102003458\t1\n",
            "\n",
            "----- OUTPUT DATA (Total Marks per Roll Number) -----\n",
            "Roll Num\tMarks\n",
            "102003135\t1\n",
            "102003207\t1\n",
            "102003307\t1\n",
            "102003315\t1\n",
            "102003362\t1\n",
            "102003458\t3\n",
            "102003542\t1\n",
            "102003640\t3\n",
            "102003643\t4\n",
            "102003675\t1\n",
            "102003725\t4\n",
            "102017134\t1\n"
          ]
        }
      ],
      "source": [
        "from collections import defaultdict\n",
        "\n",
        "# Input Data (from your image and extras)\n",
        "input_data = [\n",
        "    (\"102003542\", 1),\n",
        "    (\"102003640\", 1),\n",
        "    (\"102003725\", 1),\n",
        "    (\"102003307\", 1),\n",
        "    (\"102003640\", 1),\n",
        "    (\"102003643\", 1),\n",
        "    (\"102017134\", 1),\n",
        "    (\"102003207\", 1),\n",
        "    (\"102003315\", 1),\n",
        "    (\"102003362\", 1),\n",
        "    (\"102003135\", 1),\n",
        "    (\"102003640\", 1),\n",
        "    (\"102003675\", 1),\n",
        "    (\"102003725\", 1),\n",
        "    (\"102003725\", 1),\n",
        "    (\"102003725\", 1),\n",
        "    (\"102003458\", 1),\n",
        "    (\"102003643\", 1),\n",
        "    (\"102003643\", 1),\n",
        "    (\"102003643\", 1),\n",
        "    (\"102003458\", 1),\n",
        "    (\"102003458\", 1),\n",
        "]\n",
        "\n",
        "# Show Input Table\n",
        "print(\"----- INPUT DATA -----\")\n",
        "print(\"Roll Num\\tMarks\")\n",
        "for roll, marks in input_data:\n",
        "    print(f\"{roll}\\t{marks}\")\n",
        "\n",
        "# Dictionary to store total marks per roll number\n",
        "marks_dict = defaultdict(int)\n",
        "\n",
        "# Process: Sum up marks by roll number\n",
        "for roll, marks in input_data:\n",
        "    marks_dict[roll] += marks\n",
        "\n",
        "# Show Output Table\n",
        "print(\"\\n----- OUTPUT DATA (Total Marks per Roll Number) -----\")\n",
        "print(\"Roll Num\\tMarks\")\n",
        "for roll in sorted(marks_dict):\n",
        "    print(f\"{roll}\\t{marks_dict[roll]}\")"
      ]
    }
  ]
}